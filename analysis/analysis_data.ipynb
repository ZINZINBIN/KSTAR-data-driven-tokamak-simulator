{
 "cells": [
  {
   "cell_type": "code",
   "execution_count": 1,
   "metadata": {},
   "outputs": [],
   "source": [
    "import sys, os\n",
    "module_path = os.path.abspath(os.path.join('..'))\n",
    "\n",
    "if module_path not in sys.path:\n",
    "    sys.path.append(module_path)\n",
    "\n",
    "# move directory\n",
    "os.chdir(\"..\")"
   ]
  },
  {
   "cell_type": "code",
   "execution_count": 2,
   "metadata": {},
   "outputs": [],
   "source": [
    "import pandas as pd\n",
    "data_orig = pd.read_pickle(\"./dataset/KSTAR_tokamak_rl_control_data_orig.pkl\")"
   ]
  },
  {
   "cell_type": "code",
   "execution_count": 3,
   "metadata": {},
   "outputs": [],
   "source": [
    "import numpy as np\n",
    "import matplotlib.pyplot as plt\n",
    "from src.configuration.sim_config import SimConfig\n",
    "\n",
    "config = SimConfig()"
   ]
  },
  {
   "cell_type": "code",
   "execution_count": 4,
   "metadata": {},
   "outputs": [],
   "source": [
    "TCI = ['\\\\ne_tci01', '\\\\ne_tci02', '\\\\ne_tci03', '\\\\ne_tci04', '\\\\ne_tci05']"
   ]
  },
  {
   "cell_type": "code",
   "execution_count": 5,
   "metadata": {},
   "outputs": [
    {
     "data": {
      "text/plain": [
       "\\ne_tci01    0\n",
       "\\ne_tci02    0\n",
       "\\ne_tci03    0\n",
       "\\ne_tci04    0\n",
       "\\ne_tci05    0\n",
       "dtype: int64"
      ]
     },
     "execution_count": 5,
     "metadata": {},
     "output_type": "execute_result"
    }
   ],
   "source": [
    "data_orig[TCI].isna().sum()"
   ]
  },
  {
   "cell_type": "code",
   "execution_count": 45,
   "metadata": {},
   "outputs": [
    {
     "data": {
      "text/plain": [
       "4838442"
      ]
     },
     "execution_count": 45,
     "metadata": {},
     "output_type": "execute_result"
    }
   ],
   "source": [
    "data_orig['\\\\ne_inter01'].isna().sum()"
   ]
  },
  {
   "cell_type": "code",
   "execution_count": 6,
   "metadata": {},
   "outputs": [
    {
     "name": "stdout",
     "output_type": "stream",
     "text": [
      "# of shot: 4376\n"
     ]
    }
   ],
   "source": [
    "# shot information\n",
    "print(\"# of shot: {}\".format(len(data_orig.shot.unique())))"
   ]
  },
  {
   "cell_type": "code",
   "execution_count": 7,
   "metadata": {},
   "outputs": [
    {
     "data": {
      "text/plain": [
       "Index(['time', '\\q95', '\\qmin', '\\ipmhd', '\\betap', '\\betan', '\\li', '\\bcentr',\n",
       "       '\\kappa', '\\tritop', '\\tribot', '\\rsurf', '\\aminor', '\\drsep', '\\rxpt1',\n",
       "       '\\zxpt1', '\\rxpt2', '\\zxpt2', '\\MLSLHOUT', '\\EC1_PWR', '\\EC2_PWR',\n",
       "       '\\EC3_PWR', '\\EC4_PWR', '\\EC5_PWR', '\\ECSEC1TZRTN', '\\ECSEC2TZRTN',\n",
       "       '\\ECSEC3TZRTN', '\\ECSEC4TZRTN', '\\ECSES5TZRTN', '\\nb11_pnb',\n",
       "       '\\nb12_pnb', '\\nb13_pnb', '\\PCPF1U', '\\PCPF2U', '\\PCPF3U', '\\PCPF3L',\n",
       "       '\\PCPF4U', '\\PCPF4L', '\\PCPF5U', '\\PCPF5L', '\\PCPF6U', '\\PCPF6L',\n",
       "       '\\PCPF7U', '\\ne_inter01', '\\ne_tci01', '\\ne_tci02', '\\ne_tci03',\n",
       "       '\\ne_tci04', '\\ne_tci05', '\\BETAP_DLM03', '\\DMF_DLM03', '\\WTOT_DLM03',\n",
       "       '\\LV01', '\\LV12', '\\LV23', '\\LV34', '\\LV45', '\\RC03', '\\VCM03',\n",
       "       '\\RCPPU1', '\\RCPPU2:FOO', '\\RCPPU2B:FOO', '\\RCPPL1', '\\RCPPL2B:FOO',\n",
       "       '\\I_GFLOW_IN:FOO', '\\D_GFLOW_IN:FOO', '\\G_GFLOW_IN:FOO',\n",
       "       '\\G_NFLOW_IN:FOO', '\\ax3_bolo02:FOO', 'shot'],\n",
       "      dtype='object')"
      ]
     },
     "execution_count": 7,
     "metadata": {},
     "output_type": "execute_result"
    }
   ],
   "source": [
    "data_orig.columns"
   ]
  },
  {
   "cell_type": "code",
   "execution_count": 23,
   "metadata": {},
   "outputs": [
    {
     "data": {
      "text/plain": [
       "\\BETAP_DLM03         61213\n",
       "\\DMF_DLM03           61213\n",
       "\\WTOT_DLM03          61213\n",
       "\\LV01                43054\n",
       "\\LV12                43054\n",
       "\\LV23                43054\n",
       "\\LV34                43054\n",
       "\\LV45                43054\n",
       "\\RC03                43054\n",
       "\\VCM03               43054\n",
       "\\RCPPU1              46750\n",
       "\\RCPPU2:FOO        4850132\n",
       "\\RCPPU2B:FOO         43054\n",
       "\\RCPPL1              46750\n",
       "\\RCPPL2B:FOO       2388699\n",
       "\\I_GFLOW_IN:FOO      43948\n",
       "\\D_GFLOW_IN:FOO      23836\n",
       "\\G_GFLOW_IN:FOO      43948\n",
       "\\G_NFLOW_IN:FOO    4850132\n",
       "\\ax3_bolo02:FOO      73349\n",
       "shot                     0\n",
       "dtype: int64"
      ]
     },
     "execution_count": 23,
     "metadata": {},
     "output_type": "execute_result"
    }
   ],
   "source": [
    "data_orig.isna().sum()[49:]"
   ]
  },
  {
   "cell_type": "code",
   "execution_count": 13,
   "metadata": {},
   "outputs": [
    {
     "data": {
      "text/html": [
       "<div>\n",
       "<style scoped>\n",
       "    .dataframe tbody tr th:only-of-type {\n",
       "        vertical-align: middle;\n",
       "    }\n",
       "\n",
       "    .dataframe tbody tr th {\n",
       "        vertical-align: top;\n",
       "    }\n",
       "\n",
       "    .dataframe thead th {\n",
       "        text-align: right;\n",
       "    }\n",
       "</style>\n",
       "<table border=\"1\" class=\"dataframe\">\n",
       "  <thead>\n",
       "    <tr style=\"text-align: right;\">\n",
       "      <th></th>\n",
       "      <th>\\q95</th>\n",
       "      <th>\\ipmhd</th>\n",
       "      <th>\\kappa</th>\n",
       "      <th>\\tritop</th>\n",
       "      <th>\\tribot</th>\n",
       "      <th>\\betap</th>\n",
       "      <th>\\betan</th>\n",
       "      <th>\\li</th>\n",
       "      <th>\\bcentr</th>\n",
       "      <th>\\rsurf</th>\n",
       "      <th>\\aminor</th>\n",
       "      <th>\\drsep</th>\n",
       "      <th>\\rxpt1</th>\n",
       "      <th>\\zxpt1</th>\n",
       "      <th>\\rxpt2</th>\n",
       "      <th>\\zxpt2</th>\n",
       "    </tr>\n",
       "  </thead>\n",
       "  <tbody>\n",
       "    <tr>\n",
       "      <th>count</th>\n",
       "      <td>4.850132e+06</td>\n",
       "      <td>4.850132e+06</td>\n",
       "      <td>4.850132e+06</td>\n",
       "      <td>4.850132e+06</td>\n",
       "      <td>4.850132e+06</td>\n",
       "      <td>4.850132e+06</td>\n",
       "      <td>4.850132e+06</td>\n",
       "      <td>4.850132e+06</td>\n",
       "      <td>4.850132e+06</td>\n",
       "      <td>4.850132e+06</td>\n",
       "      <td>4.850132e+06</td>\n",
       "      <td>4.850132e+06</td>\n",
       "      <td>4.850132e+06</td>\n",
       "      <td>4.850132e+06</td>\n",
       "      <td>4.850132e+06</td>\n",
       "      <td>4.850132e+06</td>\n",
       "    </tr>\n",
       "    <tr>\n",
       "      <th>mean</th>\n",
       "      <td>5.874755e+00</td>\n",
       "      <td>-5.196460e+05</td>\n",
       "      <td>1.645795e+00</td>\n",
       "      <td>4.041566e-01</td>\n",
       "      <td>6.063837e-01</td>\n",
       "      <td>1.983316e+10</td>\n",
       "      <td>1.742715e+10</td>\n",
       "      <td>6.308341e+27</td>\n",
       "      <td>-1.993262e+00</td>\n",
       "      <td>1.848892e+00</td>\n",
       "      <td>4.781629e-01</td>\n",
       "      <td>7.588859e-02</td>\n",
       "      <td>-8.618656e-01</td>\n",
       "      <td>-2.787899e+00</td>\n",
       "      <td>-8.724780e-01</td>\n",
       "      <td>-1.276568e+00</td>\n",
       "    </tr>\n",
       "    <tr>\n",
       "      <th>std</th>\n",
       "      <td>2.124131e+01</td>\n",
       "      <td>1.126590e+05</td>\n",
       "      <td>1.776579e-01</td>\n",
       "      <td>2.033088e-01</td>\n",
       "      <td>2.722495e-01</td>\n",
       "      <td>1.574441e+13</td>\n",
       "      <td>1.383441e+13</td>\n",
       "      <td>inf</td>\n",
       "      <td>2.948516e-01</td>\n",
       "      <td>8.784771e-02</td>\n",
       "      <td>2.568744e-02</td>\n",
       "      <td>1.651467e-01</td>\n",
       "      <td>4.627453e+00</td>\n",
       "      <td>3.685656e+00</td>\n",
       "      <td>4.626145e+00</td>\n",
       "      <td>4.404183e+00</td>\n",
       "    </tr>\n",
       "    <tr>\n",
       "      <th>min</th>\n",
       "      <td>-2.091459e-01</td>\n",
       "      <td>-2.342878e+06</td>\n",
       "      <td>2.116553e-01</td>\n",
       "      <td>-7.047294e-01</td>\n",
       "      <td>-9.839617e-01</td>\n",
       "      <td>-6.508312e+03</td>\n",
       "      <td>-6.172885e+03</td>\n",
       "      <td>0.000000e+00</td>\n",
       "      <td>-3.484645e+00</td>\n",
       "      <td>1.389672e+00</td>\n",
       "      <td>1.927236e-01</td>\n",
       "      <td>-2.737803e+00</td>\n",
       "      <td>-9.990000e+00</td>\n",
       "      <td>-9.990000e+00</td>\n",
       "      <td>-9.990000e+00</td>\n",
       "      <td>-9.990000e+00</td>\n",
       "    </tr>\n",
       "    <tr>\n",
       "      <th>25%</th>\n",
       "      <td>4.258744e+00</td>\n",
       "      <td>-5.863224e+05</td>\n",
       "      <td>1.624468e+00</td>\n",
       "      <td>2.885922e-01</td>\n",
       "      <td>3.109979e-01</td>\n",
       "      <td>8.074105e-01</td>\n",
       "      <td>1.032416e+00</td>\n",
       "      <td>9.284203e-01</td>\n",
       "      <td>-1.816327e+00</td>\n",
       "      <td>1.755100e+00</td>\n",
       "      <td>4.507549e-01</td>\n",
       "      <td>-1.830570e-02</td>\n",
       "      <td>1.367320e+00</td>\n",
       "      <td>-9.319209e-01</td>\n",
       "      <td>1.350635e+00</td>\n",
       "      <td>8.062211e-01</td>\n",
       "    </tr>\n",
       "    <tr>\n",
       "      <th>50%</th>\n",
       "      <td>4.949462e+00</td>\n",
       "      <td>-5.119634e+05</td>\n",
       "      <td>1.717635e+00</td>\n",
       "      <td>3.609939e-01</td>\n",
       "      <td>7.560478e-01</td>\n",
       "      <td>1.333649e+00</td>\n",
       "      <td>1.618714e+00</td>\n",
       "      <td>1.047382e+00</td>\n",
       "      <td>-1.791801e+00</td>\n",
       "      <td>1.767611e+00</td>\n",
       "      <td>4.613917e-01</td>\n",
       "      <td>-1.169130e-02</td>\n",
       "      <td>1.387916e+00</td>\n",
       "      <td>-8.787218e-01</td>\n",
       "      <td>1.384056e+00</td>\n",
       "      <td>8.576671e-01</td>\n",
       "    </tr>\n",
       "    <tr>\n",
       "      <th>75%</th>\n",
       "      <td>5.553715e+00</td>\n",
       "      <td>-4.802110e+05</td>\n",
       "      <td>1.766661e+00</td>\n",
       "      <td>4.488949e-01</td>\n",
       "      <td>8.331774e-01</td>\n",
       "      <td>1.667965e+00</td>\n",
       "      <td>2.019622e+00</td>\n",
       "      <td>1.290273e+00</td>\n",
       "      <td>-1.791403e+00</td>\n",
       "      <td>1.777241e+00</td>\n",
       "      <td>4.720313e-01</td>\n",
       "      <td>2.090574e-02</td>\n",
       "      <td>1.408358e+00</td>\n",
       "      <td>-8.638797e-01</td>\n",
       "      <td>1.402845e+00</td>\n",
       "      <td>8.776155e-01</td>\n",
       "    </tr>\n",
       "    <tr>\n",
       "      <th>max</th>\n",
       "      <td>5.807896e+03</td>\n",
       "      <td>2.951586e+06</td>\n",
       "      <td>2.297786e+00</td>\n",
       "      <td>1.000000e+00</td>\n",
       "      <td>1.000000e+00</td>\n",
       "      <td>1.786450e+16</td>\n",
       "      <td>1.569731e+16</td>\n",
       "      <td>5.682168e+33</td>\n",
       "      <td>-1.392782e+00</td>\n",
       "      <td>1.965786e+00</td>\n",
       "      <td>7.264121e-01</td>\n",
       "      <td>5.307378e+00</td>\n",
       "      <td>2.151846e+00</td>\n",
       "      <td>8.890118e-02</td>\n",
       "      <td>2.227797e+00</td>\n",
       "      <td>1.305395e+00</td>\n",
       "    </tr>\n",
       "  </tbody>\n",
       "</table>\n",
       "</div>"
      ],
      "text/plain": [
       "               \\q95        \\ipmhd        \\kappa       \\tritop       \\tribot  \\\n",
       "count  4.850132e+06  4.850132e+06  4.850132e+06  4.850132e+06  4.850132e+06   \n",
       "mean   5.874755e+00 -5.196460e+05  1.645795e+00  4.041566e-01  6.063837e-01   \n",
       "std    2.124131e+01  1.126590e+05  1.776579e-01  2.033088e-01  2.722495e-01   \n",
       "min   -2.091459e-01 -2.342878e+06  2.116553e-01 -7.047294e-01 -9.839617e-01   \n",
       "25%    4.258744e+00 -5.863224e+05  1.624468e+00  2.885922e-01  3.109979e-01   \n",
       "50%    4.949462e+00 -5.119634e+05  1.717635e+00  3.609939e-01  7.560478e-01   \n",
       "75%    5.553715e+00 -4.802110e+05  1.766661e+00  4.488949e-01  8.331774e-01   \n",
       "max    5.807896e+03  2.951586e+06  2.297786e+00  1.000000e+00  1.000000e+00   \n",
       "\n",
       "             \\betap        \\betan           \\li       \\bcentr        \\rsurf  \\\n",
       "count  4.850132e+06  4.850132e+06  4.850132e+06  4.850132e+06  4.850132e+06   \n",
       "mean   1.983316e+10  1.742715e+10  6.308341e+27 -1.993262e+00  1.848892e+00   \n",
       "std    1.574441e+13  1.383441e+13           inf  2.948516e-01  8.784771e-02   \n",
       "min   -6.508312e+03 -6.172885e+03  0.000000e+00 -3.484645e+00  1.389672e+00   \n",
       "25%    8.074105e-01  1.032416e+00  9.284203e-01 -1.816327e+00  1.755100e+00   \n",
       "50%    1.333649e+00  1.618714e+00  1.047382e+00 -1.791801e+00  1.767611e+00   \n",
       "75%    1.667965e+00  2.019622e+00  1.290273e+00 -1.791403e+00  1.777241e+00   \n",
       "max    1.786450e+16  1.569731e+16  5.682168e+33 -1.392782e+00  1.965786e+00   \n",
       "\n",
       "            \\aminor        \\drsep        \\rxpt1        \\zxpt1        \\rxpt2  \\\n",
       "count  4.850132e+06  4.850132e+06  4.850132e+06  4.850132e+06  4.850132e+06   \n",
       "mean   4.781629e-01  7.588859e-02 -8.618656e-01 -2.787899e+00 -8.724780e-01   \n",
       "std    2.568744e-02  1.651467e-01  4.627453e+00  3.685656e+00  4.626145e+00   \n",
       "min    1.927236e-01 -2.737803e+00 -9.990000e+00 -9.990000e+00 -9.990000e+00   \n",
       "25%    4.507549e-01 -1.830570e-02  1.367320e+00 -9.319209e-01  1.350635e+00   \n",
       "50%    4.613917e-01 -1.169130e-02  1.387916e+00 -8.787218e-01  1.384056e+00   \n",
       "75%    4.720313e-01  2.090574e-02  1.408358e+00 -8.638797e-01  1.402845e+00   \n",
       "max    7.264121e-01  5.307378e+00  2.151846e+00  8.890118e-02  2.227797e+00   \n",
       "\n",
       "             \\zxpt2  \n",
       "count  4.850132e+06  \n",
       "mean  -1.276568e+00  \n",
       "std    4.404183e+00  \n",
       "min   -9.990000e+00  \n",
       "25%    8.062211e-01  \n",
       "50%    8.576671e-01  \n",
       "75%    8.776155e-01  \n",
       "max    1.305395e+00  "
      ]
     },
     "execution_count": 13,
     "metadata": {},
     "output_type": "execute_result"
    }
   ],
   "source": [
    "data_orig[config.EFIT].describe()"
   ]
  },
  {
   "cell_type": "code",
   "execution_count": 8,
   "metadata": {},
   "outputs": [
    {
     "data": {
      "text/html": [
       "<div>\n",
       "<style scoped>\n",
       "    .dataframe tbody tr th:only-of-type {\n",
       "        vertical-align: middle;\n",
       "    }\n",
       "\n",
       "    .dataframe tbody tr th {\n",
       "        vertical-align: top;\n",
       "    }\n",
       "\n",
       "    .dataframe thead th {\n",
       "        text-align: right;\n",
       "    }\n",
       "</style>\n",
       "<table border=\"1\" class=\"dataframe\">\n",
       "  <thead>\n",
       "    <tr style=\"text-align: right;\">\n",
       "      <th></th>\n",
       "      <th>\\RC03</th>\n",
       "      <th>\\VCM03</th>\n",
       "      <th>\\RCPPU1</th>\n",
       "      <th>\\RCPPU2:FOO</th>\n",
       "      <th>\\RCPPU2B:FOO</th>\n",
       "      <th>\\RCPPL1</th>\n",
       "      <th>\\RCPPL2B:FOO</th>\n",
       "    </tr>\n",
       "  </thead>\n",
       "  <tbody>\n",
       "    <tr>\n",
       "      <th>count</th>\n",
       "      <td>4.807078e+06</td>\n",
       "      <td>4.807078e+06</td>\n",
       "      <td>4.803382e+06</td>\n",
       "      <td>0.0</td>\n",
       "      <td>4.807078e+06</td>\n",
       "      <td>4.803382e+06</td>\n",
       "      <td>2.461433e+06</td>\n",
       "    </tr>\n",
       "    <tr>\n",
       "      <th>mean</th>\n",
       "      <td>4.901729e+05</td>\n",
       "      <td>4.993071e+05</td>\n",
       "      <td>1.735798e+08</td>\n",
       "      <td>NaN</td>\n",
       "      <td>1.563619e-02</td>\n",
       "      <td>7.256055e+07</td>\n",
       "      <td>4.613763e-02</td>\n",
       "    </tr>\n",
       "    <tr>\n",
       "      <th>std</th>\n",
       "      <td>1.813538e+05</td>\n",
       "      <td>1.865106e+05</td>\n",
       "      <td>1.499720e+09</td>\n",
       "      <td>NaN</td>\n",
       "      <td>6.270677e-02</td>\n",
       "      <td>1.323687e+09</td>\n",
       "      <td>3.564380e-02</td>\n",
       "    </tr>\n",
       "    <tr>\n",
       "      <th>min</th>\n",
       "      <td>-7.900335e+05</td>\n",
       "      <td>-2.552792e+06</td>\n",
       "      <td>-1.071764e+10</td>\n",
       "      <td>NaN</td>\n",
       "      <td>-2.135315e+00</td>\n",
       "      <td>-1.099812e+10</td>\n",
       "      <td>-1.388397e+00</td>\n",
       "    </tr>\n",
       "    <tr>\n",
       "      <th>25%</th>\n",
       "      <td>4.653612e+05</td>\n",
       "      <td>4.848358e+05</td>\n",
       "      <td>-2.849903e+06</td>\n",
       "      <td>NaN</td>\n",
       "      <td>1.586987e-02</td>\n",
       "      <td>-3.259619e+06</td>\n",
       "      <td>3.890991e-02</td>\n",
       "    </tr>\n",
       "    <tr>\n",
       "      <th>50%</th>\n",
       "      <td>5.011450e+05</td>\n",
       "      <td>5.207273e+05</td>\n",
       "      <td>3.642392e+05</td>\n",
       "      <td>NaN</td>\n",
       "      <td>1.892090e-02</td>\n",
       "      <td>4.170249e+05</td>\n",
       "      <td>4.455131e-02</td>\n",
       "    </tr>\n",
       "    <tr>\n",
       "      <th>75%</th>\n",
       "      <td>5.976562e+05</td>\n",
       "      <td>6.128498e+05</td>\n",
       "      <td>7.098458e+06</td>\n",
       "      <td>NaN</td>\n",
       "      <td>2.365112e-02</td>\n",
       "      <td>2.363529e+06</td>\n",
       "      <td>5.081177e-02</td>\n",
       "    </tr>\n",
       "    <tr>\n",
       "      <th>max</th>\n",
       "      <td>1.210707e+06</td>\n",
       "      <td>2.517846e+06</td>\n",
       "      <td>3.201175e+10</td>\n",
       "      <td>NaN</td>\n",
       "      <td>6.407776e+00</td>\n",
       "      <td>3.225237e+10</td>\n",
       "      <td>9.686425e-01</td>\n",
       "    </tr>\n",
       "  </tbody>\n",
       "</table>\n",
       "</div>"
      ],
      "text/plain": [
       "              \\RC03        \\VCM03       \\RCPPU1  \\RCPPU2:FOO  \\RCPPU2B:FOO  \\\n",
       "count  4.807078e+06  4.807078e+06  4.803382e+06          0.0  4.807078e+06   \n",
       "mean   4.901729e+05  4.993071e+05  1.735798e+08          NaN  1.563619e-02   \n",
       "std    1.813538e+05  1.865106e+05  1.499720e+09          NaN  6.270677e-02   \n",
       "min   -7.900335e+05 -2.552792e+06 -1.071764e+10          NaN -2.135315e+00   \n",
       "25%    4.653612e+05  4.848358e+05 -2.849903e+06          NaN  1.586987e-02   \n",
       "50%    5.011450e+05  5.207273e+05  3.642392e+05          NaN  1.892090e-02   \n",
       "75%    5.976562e+05  6.128498e+05  7.098458e+06          NaN  2.365112e-02   \n",
       "max    1.210707e+06  2.517846e+06  3.201175e+10          NaN  6.407776e+00   \n",
       "\n",
       "            \\RCPPL1  \\RCPPL2B:FOO  \n",
       "count  4.803382e+06  2.461433e+06  \n",
       "mean   7.256055e+07  4.613763e-02  \n",
       "std    1.323687e+09  3.564380e-02  \n",
       "min   -1.099812e+10 -1.388397e+00  \n",
       "25%   -3.259619e+06  3.890991e-02  \n",
       "50%    4.170249e+05  4.455131e-02  \n",
       "75%    2.363529e+06  5.081177e-02  \n",
       "max    3.225237e+10  9.686425e-01  "
      ]
     },
     "execution_count": 8,
     "metadata": {},
     "output_type": "execute_result"
    }
   ],
   "source": [
    "data_orig[config.RC].describe()"
   ]
  },
  {
   "cell_type": "code",
   "execution_count": 14,
   "metadata": {},
   "outputs": [
    {
     "data": {
      "text/html": [
       "<div>\n",
       "<style scoped>\n",
       "    .dataframe tbody tr th:only-of-type {\n",
       "        vertical-align: middle;\n",
       "    }\n",
       "\n",
       "    .dataframe tbody tr th {\n",
       "        vertical-align: top;\n",
       "    }\n",
       "\n",
       "    .dataframe thead th {\n",
       "        text-align: right;\n",
       "    }\n",
       "</style>\n",
       "<table border=\"1\" class=\"dataframe\">\n",
       "  <thead>\n",
       "    <tr style=\"text-align: right;\">\n",
       "      <th></th>\n",
       "      <th>\\BETAP_DLM03</th>\n",
       "      <th>\\DMF_DLM03</th>\n",
       "      <th>\\WTOT_DLM03</th>\n",
       "    </tr>\n",
       "  </thead>\n",
       "  <tbody>\n",
       "    <tr>\n",
       "      <th>count</th>\n",
       "      <td>4.788919e+06</td>\n",
       "      <td>4.788919e+06</td>\n",
       "      <td>4.788919e+06</td>\n",
       "    </tr>\n",
       "    <tr>\n",
       "      <th>mean</th>\n",
       "      <td>-2.430152e+23</td>\n",
       "      <td>1.328156e+00</td>\n",
       "      <td>1.589506e+02</td>\n",
       "    </tr>\n",
       "    <tr>\n",
       "      <th>std</th>\n",
       "      <td>inf</td>\n",
       "      <td>4.517023e+00</td>\n",
       "      <td>1.391942e+02</td>\n",
       "    </tr>\n",
       "    <tr>\n",
       "      <th>min</th>\n",
       "      <td>-1.163780e+30</td>\n",
       "      <td>-1.902352e+02</td>\n",
       "      <td>-5.198911e+03</td>\n",
       "    </tr>\n",
       "    <tr>\n",
       "      <th>25%</th>\n",
       "      <td>4.094546e-01</td>\n",
       "      <td>-5.834498e-01</td>\n",
       "      <td>6.289467e+01</td>\n",
       "    </tr>\n",
       "    <tr>\n",
       "      <th>50%</th>\n",
       "      <td>8.256659e-01</td>\n",
       "      <td>8.484637e-01</td>\n",
       "      <td>1.662324e+02</td>\n",
       "    </tr>\n",
       "    <tr>\n",
       "      <th>75%</th>\n",
       "      <td>1.079853e+00</td>\n",
       "      <td>3.098298e+00</td>\n",
       "      <td>2.349034e+02</td>\n",
       "    </tr>\n",
       "    <tr>\n",
       "      <th>max</th>\n",
       "      <td>4.105490e+11</td>\n",
       "      <td>5.981235e+02</td>\n",
       "      <td>3.540965e+03</td>\n",
       "    </tr>\n",
       "  </tbody>\n",
       "</table>\n",
       "</div>"
      ],
      "text/plain": [
       "       \\BETAP_DLM03    \\DMF_DLM03   \\WTOT_DLM03\n",
       "count  4.788919e+06  4.788919e+06  4.788919e+06\n",
       "mean  -2.430152e+23  1.328156e+00  1.589506e+02\n",
       "std             inf  4.517023e+00  1.391942e+02\n",
       "min   -1.163780e+30 -1.902352e+02 -5.198911e+03\n",
       "25%    4.094546e-01 -5.834498e-01  6.289467e+01\n",
       "50%    8.256659e-01  8.484637e-01  1.662324e+02\n",
       "75%    1.079853e+00  3.098298e+00  2.349034e+02\n",
       "max    4.105490e+11  5.981235e+02  3.540965e+03"
      ]
     },
     "execution_count": 14,
     "metadata": {},
     "output_type": "execute_result"
    }
   ],
   "source": [
    "data_orig[config.DL].describe()"
   ]
  },
  {
   "cell_type": "code",
   "execution_count": 9,
   "metadata": {},
   "outputs": [
    {
     "data": {
      "text/html": [
       "<div>\n",
       "<style scoped>\n",
       "    .dataframe tbody tr th:only-of-type {\n",
       "        vertical-align: middle;\n",
       "    }\n",
       "\n",
       "    .dataframe tbody tr th {\n",
       "        vertical-align: top;\n",
       "    }\n",
       "\n",
       "    .dataframe thead th {\n",
       "        text-align: right;\n",
       "    }\n",
       "</style>\n",
       "<table border=\"1\" class=\"dataframe\">\n",
       "  <thead>\n",
       "    <tr style=\"text-align: right;\">\n",
       "      <th></th>\n",
       "      <th>\\rxpt1</th>\n",
       "      <th>\\zxpt1</th>\n",
       "      <th>\\rxpt2</th>\n",
       "      <th>\\zxpt2</th>\n",
       "    </tr>\n",
       "  </thead>\n",
       "  <tbody>\n",
       "    <tr>\n",
       "      <th>0</th>\n",
       "      <td>-9.99000</td>\n",
       "      <td>-9.990000</td>\n",
       "      <td>-9.990000</td>\n",
       "      <td>-9.990000</td>\n",
       "    </tr>\n",
       "    <tr>\n",
       "      <th>1</th>\n",
       "      <td>-9.99000</td>\n",
       "      <td>-9.990000</td>\n",
       "      <td>-9.990000</td>\n",
       "      <td>-9.990000</td>\n",
       "    </tr>\n",
       "    <tr>\n",
       "      <th>2</th>\n",
       "      <td>-9.99000</td>\n",
       "      <td>-9.990000</td>\n",
       "      <td>-9.990000</td>\n",
       "      <td>-9.990000</td>\n",
       "    </tr>\n",
       "    <tr>\n",
       "      <th>3</th>\n",
       "      <td>-9.99000</td>\n",
       "      <td>-9.990000</td>\n",
       "      <td>-9.990000</td>\n",
       "      <td>-9.990000</td>\n",
       "    </tr>\n",
       "    <tr>\n",
       "      <th>4</th>\n",
       "      <td>-9.99000</td>\n",
       "      <td>-9.990000</td>\n",
       "      <td>-9.990000</td>\n",
       "      <td>-9.990000</td>\n",
       "    </tr>\n",
       "    <tr>\n",
       "      <th>...</th>\n",
       "      <td>...</td>\n",
       "      <td>...</td>\n",
       "      <td>...</td>\n",
       "      <td>...</td>\n",
       "    </tr>\n",
       "    <tr>\n",
       "      <th>3269</th>\n",
       "      <td>1.44748</td>\n",
       "      <td>-0.820929</td>\n",
       "      <td>1.446377</td>\n",
       "      <td>0.823187</td>\n",
       "    </tr>\n",
       "    <tr>\n",
       "      <th>3270</th>\n",
       "      <td>1.44748</td>\n",
       "      <td>-0.820929</td>\n",
       "      <td>1.446377</td>\n",
       "      <td>0.823187</td>\n",
       "    </tr>\n",
       "    <tr>\n",
       "      <th>3271</th>\n",
       "      <td>1.44748</td>\n",
       "      <td>-0.820929</td>\n",
       "      <td>1.446377</td>\n",
       "      <td>0.823187</td>\n",
       "    </tr>\n",
       "    <tr>\n",
       "      <th>3272</th>\n",
       "      <td>1.44748</td>\n",
       "      <td>-0.820929</td>\n",
       "      <td>1.446377</td>\n",
       "      <td>0.823187</td>\n",
       "    </tr>\n",
       "    <tr>\n",
       "      <th>3273</th>\n",
       "      <td>1.44748</td>\n",
       "      <td>-0.820929</td>\n",
       "      <td>1.446377</td>\n",
       "      <td>0.823187</td>\n",
       "    </tr>\n",
       "  </tbody>\n",
       "</table>\n",
       "<p>4850132 rows × 4 columns</p>\n",
       "</div>"
      ],
      "text/plain": [
       "       \\rxpt1    \\zxpt1    \\rxpt2    \\zxpt2\n",
       "0    -9.99000 -9.990000 -9.990000 -9.990000\n",
       "1    -9.99000 -9.990000 -9.990000 -9.990000\n",
       "2    -9.99000 -9.990000 -9.990000 -9.990000\n",
       "3    -9.99000 -9.990000 -9.990000 -9.990000\n",
       "4    -9.99000 -9.990000 -9.990000 -9.990000\n",
       "...       ...       ...       ...       ...\n",
       "3269  1.44748 -0.820929  1.446377  0.823187\n",
       "3270  1.44748 -0.820929  1.446377  0.823187\n",
       "3271  1.44748 -0.820929  1.446377  0.823187\n",
       "3272  1.44748 -0.820929  1.446377  0.823187\n",
       "3273  1.44748 -0.820929  1.446377  0.823187\n",
       "\n",
       "[4850132 rows x 4 columns]"
      ]
     },
     "execution_count": 9,
     "metadata": {},
     "output_type": "execute_result"
    }
   ],
   "source": [
    "# x-points\n",
    "data_orig[['\\\\rxpt1','\\\\zxpt1', '\\\\rxpt2', '\\\\zxpt2']]"
   ]
  },
  {
   "cell_type": "code",
   "execution_count": 13,
   "metadata": {},
   "outputs": [
    {
     "data": {
      "text/html": [
       "<div>\n",
       "<style scoped>\n",
       "    .dataframe tbody tr th:only-of-type {\n",
       "        vertical-align: middle;\n",
       "    }\n",
       "\n",
       "    .dataframe tbody tr th {\n",
       "        vertical-align: top;\n",
       "    }\n",
       "\n",
       "    .dataframe thead th {\n",
       "        text-align: right;\n",
       "    }\n",
       "</style>\n",
       "<table border=\"1\" class=\"dataframe\">\n",
       "  <thead>\n",
       "    <tr style=\"text-align: right;\">\n",
       "      <th></th>\n",
       "      <th>\\LV01</th>\n",
       "      <th>\\LV12</th>\n",
       "      <th>\\LV23</th>\n",
       "      <th>\\LV34</th>\n",
       "      <th>\\LV45</th>\n",
       "    </tr>\n",
       "  </thead>\n",
       "  <tbody>\n",
       "    <tr>\n",
       "      <th>count</th>\n",
       "      <td>4.807078e+06</td>\n",
       "      <td>4.807078e+06</td>\n",
       "      <td>4.807078e+06</td>\n",
       "      <td>4.807078e+06</td>\n",
       "      <td>4.807078e+06</td>\n",
       "    </tr>\n",
       "    <tr>\n",
       "      <th>mean</th>\n",
       "      <td>-1.984918e-01</td>\n",
       "      <td>-1.396963e-01</td>\n",
       "      <td>-1.986790e-01</td>\n",
       "      <td>-1.508775e-01</td>\n",
       "      <td>-2.009051e-01</td>\n",
       "    </tr>\n",
       "    <tr>\n",
       "      <th>std</th>\n",
       "      <td>8.825858e-01</td>\n",
       "      <td>5.958062e-01</td>\n",
       "      <td>7.672595e-01</td>\n",
       "      <td>5.785843e-01</td>\n",
       "      <td>8.802263e-01</td>\n",
       "    </tr>\n",
       "    <tr>\n",
       "      <th>min</th>\n",
       "      <td>-2.535629e+01</td>\n",
       "      <td>-2.515544e+01</td>\n",
       "      <td>-4.467176e+01</td>\n",
       "      <td>-2.459746e+01</td>\n",
       "      <td>-2.528805e+01</td>\n",
       "    </tr>\n",
       "    <tr>\n",
       "      <th>25%</th>\n",
       "      <td>-2.599262e-01</td>\n",
       "      <td>-2.304044e-01</td>\n",
       "      <td>-2.695296e-01</td>\n",
       "      <td>-2.299371e-01</td>\n",
       "      <td>-2.666385e-01</td>\n",
       "    </tr>\n",
       "    <tr>\n",
       "      <th>50%</th>\n",
       "      <td>-1.731591e-02</td>\n",
       "      <td>-4.991961e-02</td>\n",
       "      <td>-4.581296e-02</td>\n",
       "      <td>-5.117077e-02</td>\n",
       "      <td>-1.909003e-02</td>\n",
       "    </tr>\n",
       "    <tr>\n",
       "      <th>75%</th>\n",
       "      <td>4.245045e-02</td>\n",
       "      <td>1.860173e-02</td>\n",
       "      <td>2.565879e-02</td>\n",
       "      <td>2.119762e-02</td>\n",
       "      <td>4.081813e-02</td>\n",
       "    </tr>\n",
       "    <tr>\n",
       "      <th>max</th>\n",
       "      <td>2.553983e+01</td>\n",
       "      <td>2.555499e+01</td>\n",
       "      <td>2.495003e+01</td>\n",
       "      <td>2.440578e+01</td>\n",
       "      <td>2.551093e+01</td>\n",
       "    </tr>\n",
       "  </tbody>\n",
       "</table>\n",
       "</div>"
      ],
      "text/plain": [
       "              \\LV01         \\LV12         \\LV23         \\LV34         \\LV45\n",
       "count  4.807078e+06  4.807078e+06  4.807078e+06  4.807078e+06  4.807078e+06\n",
       "mean  -1.984918e-01 -1.396963e-01 -1.986790e-01 -1.508775e-01 -2.009051e-01\n",
       "std    8.825858e-01  5.958062e-01  7.672595e-01  5.785843e-01  8.802263e-01\n",
       "min   -2.535629e+01 -2.515544e+01 -4.467176e+01 -2.459746e+01 -2.528805e+01\n",
       "25%   -2.599262e-01 -2.304044e-01 -2.695296e-01 -2.299371e-01 -2.666385e-01\n",
       "50%   -1.731591e-02 -4.991961e-02 -4.581296e-02 -5.117077e-02 -1.909003e-02\n",
       "75%    4.245045e-02  1.860173e-02  2.565879e-02  2.119762e-02  4.081813e-02\n",
       "max    2.553983e+01  2.555499e+01  2.495003e+01  2.440578e+01  2.551093e+01"
      ]
     },
     "execution_count": 13,
     "metadata": {},
     "output_type": "execute_result"
    }
   ],
   "source": [
    "data_orig[['\\LV01', '\\LV12', '\\LV23', '\\LV34', '\\LV45']].describe()"
   ]
  },
  {
   "cell_type": "code",
   "execution_count": 33,
   "metadata": {},
   "outputs": [
    {
     "data": {
      "text/plain": [
       "array([23076, 23396, 23404, 23413, 23416, 23417, 23422, 23700, 23701,\n",
       "       23703, 27966, 28026, 28027, 28028, 28029, 28030, 28093, 28299,\n",
       "       28305, 28308, 28309, 28310, 28311, 28312, 28313, 28314, 28315,\n",
       "       28316, 28317, 28319, 28320, 28321, 28322, 28323, 28325, 28326,\n",
       "       28327, 28329, 28330, 28331, 28658, 28711, 28728])"
      ]
     },
     "execution_count": 33,
     "metadata": {},
     "output_type": "execute_result"
    }
   ],
   "source": [
    "data_orig[data_orig['\\\\LV01'].isna() == True].shot.unique()"
   ]
  },
  {
   "cell_type": "code",
   "execution_count": 41,
   "metadata": {},
   "outputs": [
    {
     "data": {
      "text/plain": [
       "array([23076, 23396, 23404, 23413, 23416, 23417, 23422, 23700, 23701,\n",
       "       23703, 27966, 28026, 28027, 28028, 28029, 28030, 28093, 28299,\n",
       "       28305, 28308, 28309, 28310, 28311, 28312, 28313, 28314, 28315,\n",
       "       28316, 28317, 28319, 28320, 28321, 28322, 28323, 28325, 28326,\n",
       "       28327, 28329, 28330, 28331, 28658, 28711, 28728])"
      ]
     },
     "execution_count": 41,
     "metadata": {},
     "output_type": "execute_result"
    }
   ],
   "source": [
    "data_orig[data_orig['\\\\RC03'].isna() == True].shot.unique()"
   ]
  },
  {
   "cell_type": "code",
   "execution_count": 43,
   "metadata": {},
   "outputs": [
    {
     "data": {
      "text/plain": [
       "array([23076, 23396, 23404, 23413, 23416, 23417, 23422, 23516, 23518,\n",
       "       23519, 23521, 23522, 23523, 23524, 23525, 23526, 23527, 23529,\n",
       "       23532, 23700, 23701, 23703, 25507, 25508, 25509, 25511, 25513,\n",
       "       27966, 28026, 28027, 28028, 28029, 28030, 28093, 28299, 28305,\n",
       "       28308, 28309, 28310, 28311, 28312, 28313, 28314, 28315, 28316,\n",
       "       28317, 28319, 28320, 28321, 28322, 28323, 28325, 28326, 28327,\n",
       "       28329, 28330, 28331, 28658, 28711, 28728])"
      ]
     },
     "execution_count": 43,
     "metadata": {},
     "output_type": "execute_result"
    }
   ],
   "source": [
    "data_orig[data_orig['\\\\WTOT_DLM03'].isna() == True].shot.unique()"
   ]
  },
  {
   "cell_type": "code",
   "execution_count": 44,
   "metadata": {},
   "outputs": [
    {
     "data": {
      "text/plain": [
       "array([23076, 23396, 23404, 23413, 23416, 23417, 23422, 23516, 23518,\n",
       "       23519, 23521, 23522, 23523, 23524, 23525, 23526, 23527, 23529,\n",
       "       23532, 23700, 23701, 23703, 25507, 25508, 25509, 25511, 25513,\n",
       "       27966, 28026, 28027, 28028, 28029, 28030, 28093, 28299, 28305,\n",
       "       28308, 28309, 28310, 28311, 28312, 28313, 28314, 28315, 28316,\n",
       "       28317, 28319, 28320, 28321, 28322, 28323, 28325, 28326, 28327,\n",
       "       28329, 28330, 28331, 28658, 28711, 28728])"
      ]
     },
     "execution_count": 44,
     "metadata": {},
     "output_type": "execute_result"
    }
   ],
   "source": [
    "data_orig[data_orig['\\\\BETAP_DLM03'].isna() == True].shot.unique()"
   ]
  },
  {
   "cell_type": "code",
   "execution_count": 40,
   "metadata": {},
   "outputs": [
    {
     "data": {
      "text/plain": [
       "array([23250, 23251, 23252, 23253, 23254, 23255, 23257, 23258, 23262,\n",
       "       23263, 23264, 23265, 23266, 23267, 23269, 23272, 23273, 23274,\n",
       "       23280, 23281, 23282, 23283, 23284, 23285, 23286, 23287, 23288,\n",
       "       23290, 23292, 23293, 23295, 23296, 23297, 23298, 23299, 23300,\n",
       "       23301, 23302, 23305, 23308, 23313, 23315, 23317, 23320, 23321,\n",
       "       23322, 23324, 23325, 23326, 23332, 23334, 23336, 23337, 23338,\n",
       "       23339, 23340, 23341, 23342, 23343, 23344, 23346, 23349, 23350,\n",
       "       23351, 30002, 30732, 30736, 30737, 30739, 30741, 30743, 30745,\n",
       "       30749, 30751, 30753, 30755, 30763, 30765, 30769, 30771, 30775,\n",
       "       30781, 30785, 30793, 30799, 30801, 30805])"
      ]
     },
     "execution_count": 40,
     "metadata": {},
     "output_type": "execute_result"
    }
   ],
   "source": [
    "data_orig[data_orig['\\\\ax3_bolo02:FOO'].isna() == True].shot.unique()"
   ]
  },
  {
   "cell_type": "code",
   "execution_count": 11,
   "metadata": {},
   "outputs": [
    {
     "data": {
      "text/html": [
       "<div>\n",
       "<style scoped>\n",
       "    .dataframe tbody tr th:only-of-type {\n",
       "        vertical-align: middle;\n",
       "    }\n",
       "\n",
       "    .dataframe tbody tr th {\n",
       "        vertical-align: top;\n",
       "    }\n",
       "\n",
       "    .dataframe thead th {\n",
       "        text-align: right;\n",
       "    }\n",
       "</style>\n",
       "<table border=\"1\" class=\"dataframe\">\n",
       "  <thead>\n",
       "    <tr style=\"text-align: right;\">\n",
       "      <th></th>\n",
       "      <th>\\nb11_pnb</th>\n",
       "      <th>\\nb12_pnb</th>\n",
       "      <th>\\nb13_pnb</th>\n",
       "    </tr>\n",
       "  </thead>\n",
       "  <tbody>\n",
       "    <tr>\n",
       "      <th>count</th>\n",
       "      <td>4.509523e+06</td>\n",
       "      <td>4.507386e+06</td>\n",
       "      <td>4.514879e+06</td>\n",
       "    </tr>\n",
       "    <tr>\n",
       "      <th>mean</th>\n",
       "      <td>8.469680e-01</td>\n",
       "      <td>1.101057e+00</td>\n",
       "      <td>3.719661e-01</td>\n",
       "    </tr>\n",
       "    <tr>\n",
       "      <th>std</th>\n",
       "      <td>6.427497e-01</td>\n",
       "      <td>6.970381e-01</td>\n",
       "      <td>4.797645e-01</td>\n",
       "    </tr>\n",
       "    <tr>\n",
       "      <th>min</th>\n",
       "      <td>-1.829195e+00</td>\n",
       "      <td>-3.465408e-02</td>\n",
       "      <td>-2.961715e-02</td>\n",
       "    </tr>\n",
       "    <tr>\n",
       "      <th>25%</th>\n",
       "      <td>2.879857e-04</td>\n",
       "      <td>3.768384e-03</td>\n",
       "      <td>-6.053949e-06</td>\n",
       "    </tr>\n",
       "    <tr>\n",
       "      <th>50%</th>\n",
       "      <td>1.162073e+00</td>\n",
       "      <td>1.419847e+00</td>\n",
       "      <td>6.304227e-05</td>\n",
       "    </tr>\n",
       "    <tr>\n",
       "      <th>75%</th>\n",
       "      <td>1.400656e+00</td>\n",
       "      <td>1.676567e+00</td>\n",
       "      <td>7.118555e-01</td>\n",
       "    </tr>\n",
       "    <tr>\n",
       "      <th>max</th>\n",
       "      <td>1.843979e+00</td>\n",
       "      <td>1.992009e+00</td>\n",
       "      <td>1.807618e+00</td>\n",
       "    </tr>\n",
       "  </tbody>\n",
       "</table>\n",
       "</div>"
      ],
      "text/plain": [
       "          \\nb11_pnb     \\nb12_pnb     \\nb13_pnb\n",
       "count  4.509523e+06  4.507386e+06  4.514879e+06\n",
       "mean   8.469680e-01  1.101057e+00  3.719661e-01\n",
       "std    6.427497e-01  6.970381e-01  4.797645e-01\n",
       "min   -1.829195e+00 -3.465408e-02 -2.961715e-02\n",
       "25%    2.879857e-04  3.768384e-03 -6.053949e-06\n",
       "50%    1.162073e+00  1.419847e+00  6.304227e-05\n",
       "75%    1.400656e+00  1.676567e+00  7.118555e-01\n",
       "max    1.843979e+00  1.992009e+00  1.807618e+00"
      ]
     },
     "execution_count": 11,
     "metadata": {},
     "output_type": "execute_result"
    }
   ],
   "source": [
    "data_orig[['\\\\nb11_pnb','\\\\nb12_pnb', '\\\\nb13_pnb']].describe()"
   ]
  },
  {
   "cell_type": "code",
   "execution_count": 12,
   "metadata": {},
   "outputs": [
    {
     "data": {
      "text/html": [
       "<div>\n",
       "<style scoped>\n",
       "    .dataframe tbody tr th:only-of-type {\n",
       "        vertical-align: middle;\n",
       "    }\n",
       "\n",
       "    .dataframe tbody tr th {\n",
       "        vertical-align: top;\n",
       "    }\n",
       "\n",
       "    .dataframe thead th {\n",
       "        text-align: right;\n",
       "    }\n",
       "</style>\n",
       "<table border=\"1\" class=\"dataframe\">\n",
       "  <thead>\n",
       "    <tr style=\"text-align: right;\">\n",
       "      <th></th>\n",
       "      <th>\\EC1_PWR</th>\n",
       "      <th>\\EC2_PWR</th>\n",
       "      <th>\\EC3_PWR</th>\n",
       "      <th>\\EC4_PWR</th>\n",
       "      <th>\\EC5_PWR</th>\n",
       "    </tr>\n",
       "  </thead>\n",
       "  <tbody>\n",
       "    <tr>\n",
       "      <th>count</th>\n",
       "      <td>0.0</td>\n",
       "      <td>1.635224e+06</td>\n",
       "      <td>2.302935e+06</td>\n",
       "      <td>1.178825e+06</td>\n",
       "      <td>875003.000000</td>\n",
       "    </tr>\n",
       "    <tr>\n",
       "      <th>mean</th>\n",
       "      <td>NaN</td>\n",
       "      <td>2.182105e+02</td>\n",
       "      <td>1.167387e+02</td>\n",
       "      <td>2.122113e+02</td>\n",
       "      <td>303.372375</td>\n",
       "    </tr>\n",
       "    <tr>\n",
       "      <th>std</th>\n",
       "      <td>NaN</td>\n",
       "      <td>2.895660e+02</td>\n",
       "      <td>2.082668e+02</td>\n",
       "      <td>3.052411e+02</td>\n",
       "      <td>317.074646</td>\n",
       "    </tr>\n",
       "    <tr>\n",
       "      <th>min</th>\n",
       "      <td>NaN</td>\n",
       "      <td>-7.257137e+00</td>\n",
       "      <td>-5.326783e+01</td>\n",
       "      <td>-2.441525e-02</td>\n",
       "      <td>-30.826748</td>\n",
       "    </tr>\n",
       "    <tr>\n",
       "      <th>25%</th>\n",
       "      <td>NaN</td>\n",
       "      <td>6.883931e-01</td>\n",
       "      <td>1.373055e+01</td>\n",
       "      <td>8.972442e+00</td>\n",
       "      <td>4.457228</td>\n",
       "    </tr>\n",
       "    <tr>\n",
       "      <th>50%</th>\n",
       "      <td>NaN</td>\n",
       "      <td>1.471720e+00</td>\n",
       "      <td>2.199859e+01</td>\n",
       "      <td>1.028352e+01</td>\n",
       "      <td>8.233935</td>\n",
       "    </tr>\n",
       "    <tr>\n",
       "      <th>75%</th>\n",
       "      <td>NaN</td>\n",
       "      <td>5.302627e+02</td>\n",
       "      <td>2.409077e+01</td>\n",
       "      <td>5.706962e+02</td>\n",
       "      <td>611.327698</td>\n",
       "    </tr>\n",
       "    <tr>\n",
       "      <th>max</th>\n",
       "      <td>NaN</td>\n",
       "      <td>8.502504e+02</td>\n",
       "      <td>1.048199e+03</td>\n",
       "      <td>1.068621e+03</td>\n",
       "      <td>1033.967285</td>\n",
       "    </tr>\n",
       "  </tbody>\n",
       "</table>\n",
       "</div>"
      ],
      "text/plain": [
       "       \\EC1_PWR      \\EC2_PWR      \\EC3_PWR      \\EC4_PWR       \\EC5_PWR\n",
       "count       0.0  1.635224e+06  2.302935e+06  1.178825e+06  875003.000000\n",
       "mean        NaN  2.182105e+02  1.167387e+02  2.122113e+02     303.372375\n",
       "std         NaN  2.895660e+02  2.082668e+02  3.052411e+02     317.074646\n",
       "min         NaN -7.257137e+00 -5.326783e+01 -2.441525e-02     -30.826748\n",
       "25%         NaN  6.883931e-01  1.373055e+01  8.972442e+00       4.457228\n",
       "50%         NaN  1.471720e+00  2.199859e+01  1.028352e+01       8.233935\n",
       "75%         NaN  5.302627e+02  2.409077e+01  5.706962e+02     611.327698\n",
       "max         NaN  8.502504e+02  1.048199e+03  1.068621e+03    1033.967285"
      ]
     },
     "execution_count": 12,
     "metadata": {},
     "output_type": "execute_result"
    }
   ],
   "source": [
    "data_orig[['\\EC1_PWR', '\\EC2_PWR','\\EC3_PWR', '\\EC4_PWR', '\\EC5_PWR']].describe()"
   ]
  },
  {
   "cell_type": "code",
   "execution_count": 24,
   "metadata": {},
   "outputs": [
    {
     "data": {
      "text/html": [
       "<div>\n",
       "<style scoped>\n",
       "    .dataframe tbody tr th:only-of-type {\n",
       "        vertical-align: middle;\n",
       "    }\n",
       "\n",
       "    .dataframe tbody tr th {\n",
       "        vertical-align: top;\n",
       "    }\n",
       "\n",
       "    .dataframe thead th {\n",
       "        text-align: right;\n",
       "    }\n",
       "</style>\n",
       "<table border=\"1\" class=\"dataframe\">\n",
       "  <thead>\n",
       "    <tr style=\"text-align: right;\">\n",
       "      <th></th>\n",
       "      <th>\\PCPF1U</th>\n",
       "      <th>\\PCPF2U</th>\n",
       "      <th>\\PCPF3U</th>\n",
       "      <th>\\PCPF3L</th>\n",
       "      <th>\\PCPF4U</th>\n",
       "      <th>\\PCPF4L</th>\n",
       "      <th>\\PCPF5U</th>\n",
       "      <th>\\PCPF5L</th>\n",
       "      <th>\\PCPF6U</th>\n",
       "      <th>\\PCPF6L</th>\n",
       "      <th>\\PCPF7U</th>\n",
       "    </tr>\n",
       "  </thead>\n",
       "  <tbody>\n",
       "    <tr>\n",
       "      <th>count</th>\n",
       "      <td>4.850132e+06</td>\n",
       "      <td>4.850132e+06</td>\n",
       "      <td>4.850132e+06</td>\n",
       "      <td>4.850132e+06</td>\n",
       "      <td>4.850132e+06</td>\n",
       "      <td>4.850132e+06</td>\n",
       "      <td>4.850132e+06</td>\n",
       "      <td>4.850132e+06</td>\n",
       "      <td>4.850132e+06</td>\n",
       "      <td>4.850132e+06</td>\n",
       "      <td>4.850132e+06</td>\n",
       "    </tr>\n",
       "    <tr>\n",
       "      <th>mean</th>\n",
       "      <td>2.255109e+03</td>\n",
       "      <td>1.588653e+03</td>\n",
       "      <td>-4.792083e+03</td>\n",
       "      <td>-4.411101e+03</td>\n",
       "      <td>-6.038169e+03</td>\n",
       "      <td>-5.871821e+03</td>\n",
       "      <td>-2.855977e+03</td>\n",
       "      <td>-3.495037e+03</td>\n",
       "      <td>1.628975e+03</td>\n",
       "      <td>1.869167e+03</td>\n",
       "      <td>3.166933e+03</td>\n",
       "    </tr>\n",
       "    <tr>\n",
       "      <th>std</th>\n",
       "      <td>3.013432e+03</td>\n",
       "      <td>3.415818e+03</td>\n",
       "      <td>3.944146e+03</td>\n",
       "      <td>3.861808e+03</td>\n",
       "      <td>4.395464e+03</td>\n",
       "      <td>4.312313e+03</td>\n",
       "      <td>3.348935e+03</td>\n",
       "      <td>3.427678e+03</td>\n",
       "      <td>1.551047e+03</td>\n",
       "      <td>1.711955e+03</td>\n",
       "      <td>1.634960e+03</td>\n",
       "    </tr>\n",
       "    <tr>\n",
       "      <th>min</th>\n",
       "      <td>-5.081000e+03</td>\n",
       "      <td>-1.586350e+04</td>\n",
       "      <td>-1.550550e+04</td>\n",
       "      <td>-1.595650e+04</td>\n",
       "      <td>-1.530300e+04</td>\n",
       "      <td>-1.527699e+04</td>\n",
       "      <td>-9.802000e+03</td>\n",
       "      <td>-1.302849e+04</td>\n",
       "      <td>-8.535000e+03</td>\n",
       "      <td>-6.747500e+03</td>\n",
       "      <td>-1.623550e+04</td>\n",
       "    </tr>\n",
       "    <tr>\n",
       "      <th>25%</th>\n",
       "      <td>3.710000e+02</td>\n",
       "      <td>-5.939614e+02</td>\n",
       "      <td>-7.056000e+03</td>\n",
       "      <td>-6.861500e+03</td>\n",
       "      <td>-9.209000e+03</td>\n",
       "      <td>-9.088500e+03</td>\n",
       "      <td>-5.068500e+03</td>\n",
       "      <td>-5.776000e+03</td>\n",
       "      <td>7.785000e+02</td>\n",
       "      <td>9.250000e+02</td>\n",
       "      <td>2.121000e+03</td>\n",
       "    </tr>\n",
       "    <tr>\n",
       "      <th>50%</th>\n",
       "      <td>1.851500e+03</td>\n",
       "      <td>9.290000e+02</td>\n",
       "      <td>-5.631500e+03</td>\n",
       "      <td>-5.247500e+03</td>\n",
       "      <td>-7.121000e+03</td>\n",
       "      <td>-6.988500e+03</td>\n",
       "      <td>-3.719500e+03</td>\n",
       "      <td>-4.206000e+03</td>\n",
       "      <td>1.649005e+03</td>\n",
       "      <td>1.888500e+03</td>\n",
       "      <td>3.070500e+03</td>\n",
       "    </tr>\n",
       "    <tr>\n",
       "      <th>75%</th>\n",
       "      <td>3.708000e+03</td>\n",
       "      <td>3.165500e+03</td>\n",
       "      <td>-2.785500e+03</td>\n",
       "      <td>-2.427014e+03</td>\n",
       "      <td>-3.925000e+03</td>\n",
       "      <td>-3.808357e+03</td>\n",
       "      <td>-1.610971e+03</td>\n",
       "      <td>-2.142500e+03</td>\n",
       "      <td>2.581933e+03</td>\n",
       "      <td>2.911000e+03</td>\n",
       "      <td>4.002000e+03</td>\n",
       "    </tr>\n",
       "    <tr>\n",
       "      <th>max</th>\n",
       "      <td>1.513100e+04</td>\n",
       "      <td>1.600200e+04</td>\n",
       "      <td>1.502750e+04</td>\n",
       "      <td>1.790850e+04</td>\n",
       "      <td>1.564200e+04</td>\n",
       "      <td>1.572250e+04</td>\n",
       "      <td>1.503150e+04</td>\n",
       "      <td>1.502450e+04</td>\n",
       "      <td>1.004600e+04</td>\n",
       "      <td>1.004250e+04</td>\n",
       "      <td>1.005450e+04</td>\n",
       "    </tr>\n",
       "  </tbody>\n",
       "</table>\n",
       "</div>"
      ],
      "text/plain": [
       "            \\PCPF1U       \\PCPF2U       \\PCPF3U       \\PCPF3L       \\PCPF4U  \\\n",
       "count  4.850132e+06  4.850132e+06  4.850132e+06  4.850132e+06  4.850132e+06   \n",
       "mean   2.255109e+03  1.588653e+03 -4.792083e+03 -4.411101e+03 -6.038169e+03   \n",
       "std    3.013432e+03  3.415818e+03  3.944146e+03  3.861808e+03  4.395464e+03   \n",
       "min   -5.081000e+03 -1.586350e+04 -1.550550e+04 -1.595650e+04 -1.530300e+04   \n",
       "25%    3.710000e+02 -5.939614e+02 -7.056000e+03 -6.861500e+03 -9.209000e+03   \n",
       "50%    1.851500e+03  9.290000e+02 -5.631500e+03 -5.247500e+03 -7.121000e+03   \n",
       "75%    3.708000e+03  3.165500e+03 -2.785500e+03 -2.427014e+03 -3.925000e+03   \n",
       "max    1.513100e+04  1.600200e+04  1.502750e+04  1.790850e+04  1.564200e+04   \n",
       "\n",
       "            \\PCPF4L       \\PCPF5U       \\PCPF5L       \\PCPF6U       \\PCPF6L  \\\n",
       "count  4.850132e+06  4.850132e+06  4.850132e+06  4.850132e+06  4.850132e+06   \n",
       "mean  -5.871821e+03 -2.855977e+03 -3.495037e+03  1.628975e+03  1.869167e+03   \n",
       "std    4.312313e+03  3.348935e+03  3.427678e+03  1.551047e+03  1.711955e+03   \n",
       "min   -1.527699e+04 -9.802000e+03 -1.302849e+04 -8.535000e+03 -6.747500e+03   \n",
       "25%   -9.088500e+03 -5.068500e+03 -5.776000e+03  7.785000e+02  9.250000e+02   \n",
       "50%   -6.988500e+03 -3.719500e+03 -4.206000e+03  1.649005e+03  1.888500e+03   \n",
       "75%   -3.808357e+03 -1.610971e+03 -2.142500e+03  2.581933e+03  2.911000e+03   \n",
       "max    1.572250e+04  1.503150e+04  1.502450e+04  1.004600e+04  1.004250e+04   \n",
       "\n",
       "            \\PCPF7U  \n",
       "count  4.850132e+06  \n",
       "mean   3.166933e+03  \n",
       "std    1.634960e+03  \n",
       "min   -1.623550e+04  \n",
       "25%    2.121000e+03  \n",
       "50%    3.070500e+03  \n",
       "75%    4.002000e+03  \n",
       "max    1.005450e+04  "
      ]
     },
     "execution_count": 24,
     "metadata": {},
     "output_type": "execute_result"
    }
   ],
   "source": [
    "data_orig[['\\PCPF1U', '\\PCPF2U', '\\PCPF3U', '\\PCPF3L','\\PCPF4U', '\\PCPF4L', '\\PCPF5U', '\\PCPF5L', '\\PCPF6U', '\\PCPF6L','\\PCPF7U']].describe()"
   ]
  },
  {
   "cell_type": "code",
   "execution_count": 25,
   "metadata": {},
   "outputs": [
    {
     "data": {
      "text/html": [
       "<div>\n",
       "<style scoped>\n",
       "    .dataframe tbody tr th:only-of-type {\n",
       "        vertical-align: middle;\n",
       "    }\n",
       "\n",
       "    .dataframe tbody tr th {\n",
       "        vertical-align: top;\n",
       "    }\n",
       "\n",
       "    .dataframe thead th {\n",
       "        text-align: right;\n",
       "    }\n",
       "</style>\n",
       "<table border=\"1\" class=\"dataframe\">\n",
       "  <thead>\n",
       "    <tr style=\"text-align: right;\">\n",
       "      <th></th>\n",
       "      <th>\\ne_tci01</th>\n",
       "      <th>\\ne_tci02</th>\n",
       "      <th>\\ne_tci03</th>\n",
       "      <th>\\ne_tci04</th>\n",
       "      <th>\\ne_tci05</th>\n",
       "    </tr>\n",
       "  </thead>\n",
       "  <tbody>\n",
       "    <tr>\n",
       "      <th>count</th>\n",
       "      <td>4.850132e+06</td>\n",
       "      <td>4.850132e+06</td>\n",
       "      <td>4.850132e+06</td>\n",
       "      <td>4.850132e+06</td>\n",
       "      <td>4.850132e+06</td>\n",
       "    </tr>\n",
       "    <tr>\n",
       "      <th>mean</th>\n",
       "      <td>3.589867e+01</td>\n",
       "      <td>-4.511978e+02</td>\n",
       "      <td>5.502350e+01</td>\n",
       "      <td>6.572622e+01</td>\n",
       "      <td>9.255140e+01</td>\n",
       "    </tr>\n",
       "    <tr>\n",
       "      <th>std</th>\n",
       "      <td>5.522775e+03</td>\n",
       "      <td>2.580407e+04</td>\n",
       "      <td>8.405883e+03</td>\n",
       "      <td>1.048029e+04</td>\n",
       "      <td>1.610832e+04</td>\n",
       "    </tr>\n",
       "    <tr>\n",
       "      <th>min</th>\n",
       "      <td>-1.390375e+03</td>\n",
       "      <td>-2.403412e+06</td>\n",
       "      <td>-1.762977e+03</td>\n",
       "      <td>-2.206729e+03</td>\n",
       "      <td>-8.439353e+04</td>\n",
       "    </tr>\n",
       "    <tr>\n",
       "      <th>25%</th>\n",
       "      <td>1.327520e+00</td>\n",
       "      <td>1.592117e+00</td>\n",
       "      <td>1.427461e+00</td>\n",
       "      <td>1.128482e+00</td>\n",
       "      <td>5.016711e-01</td>\n",
       "    </tr>\n",
       "    <tr>\n",
       "      <th>50%</th>\n",
       "      <td>2.254315e+00</td>\n",
       "      <td>2.734015e+00</td>\n",
       "      <td>2.457619e+00</td>\n",
       "      <td>2.036623e+00</td>\n",
       "      <td>1.201458e+00</td>\n",
       "    </tr>\n",
       "    <tr>\n",
       "      <th>75%</th>\n",
       "      <td>2.857208e+00</td>\n",
       "      <td>3.520495e+00</td>\n",
       "      <td>3.179448e+00</td>\n",
       "      <td>2.718760e+00</td>\n",
       "      <td>1.959153e+00</td>\n",
       "    </tr>\n",
       "    <tr>\n",
       "      <th>max</th>\n",
       "      <td>1.285402e+06</td>\n",
       "      <td>1.692426e+06</td>\n",
       "      <td>1.956417e+06</td>\n",
       "      <td>2.439223e+06</td>\n",
       "      <td>3.744934e+06</td>\n",
       "    </tr>\n",
       "  </tbody>\n",
       "</table>\n",
       "</div>"
      ],
      "text/plain": [
       "          \\ne_tci01     \\ne_tci02     \\ne_tci03     \\ne_tci04     \\ne_tci05\n",
       "count  4.850132e+06  4.850132e+06  4.850132e+06  4.850132e+06  4.850132e+06\n",
       "mean   3.589867e+01 -4.511978e+02  5.502350e+01  6.572622e+01  9.255140e+01\n",
       "std    5.522775e+03  2.580407e+04  8.405883e+03  1.048029e+04  1.610832e+04\n",
       "min   -1.390375e+03 -2.403412e+06 -1.762977e+03 -2.206729e+03 -8.439353e+04\n",
       "25%    1.327520e+00  1.592117e+00  1.427461e+00  1.128482e+00  5.016711e-01\n",
       "50%    2.254315e+00  2.734015e+00  2.457619e+00  2.036623e+00  1.201458e+00\n",
       "75%    2.857208e+00  3.520495e+00  3.179448e+00  2.718760e+00  1.959153e+00\n",
       "max    1.285402e+06  1.692426e+06  1.956417e+06  2.439223e+06  3.744934e+06"
      ]
     },
     "execution_count": 25,
     "metadata": {},
     "output_type": "execute_result"
    }
   ],
   "source": [
    "# TCI\n",
    "data_orig[['\\\\ne_tci01', '\\\\ne_tci02', '\\\\ne_tci03', '\\\\ne_tci04', '\\\\ne_tci05']].describe()"
   ]
  },
  {
   "cell_type": "code",
   "execution_count": 28,
   "metadata": {},
   "outputs": [
    {
     "data": {
      "text/html": [
       "<div>\n",
       "<style scoped>\n",
       "    .dataframe tbody tr th:only-of-type {\n",
       "        vertical-align: middle;\n",
       "    }\n",
       "\n",
       "    .dataframe tbody tr th {\n",
       "        vertical-align: top;\n",
       "    }\n",
       "\n",
       "    .dataframe thead th {\n",
       "        text-align: right;\n",
       "    }\n",
       "</style>\n",
       "<table border=\"1\" class=\"dataframe\">\n",
       "  <thead>\n",
       "    <tr style=\"text-align: right;\">\n",
       "      <th></th>\n",
       "      <th>\\ne_tci01</th>\n",
       "      <th>\\ne_tci02</th>\n",
       "      <th>\\ne_tci03</th>\n",
       "      <th>\\ne_tci04</th>\n",
       "      <th>\\ne_tci05</th>\n",
       "    </tr>\n",
       "  </thead>\n",
       "  <tbody>\n",
       "    <tr>\n",
       "      <th>0</th>\n",
       "      <td>0.957232</td>\n",
       "      <td>1.135519</td>\n",
       "      <td>0.802350</td>\n",
       "      <td>0.785973</td>\n",
       "      <td>0.644769</td>\n",
       "    </tr>\n",
       "    <tr>\n",
       "      <th>1</th>\n",
       "      <td>0.955408</td>\n",
       "      <td>1.141289</td>\n",
       "      <td>0.814945</td>\n",
       "      <td>0.813321</td>\n",
       "      <td>0.729474</td>\n",
       "    </tr>\n",
       "    <tr>\n",
       "      <th>2</th>\n",
       "      <td>0.944727</td>\n",
       "      <td>1.132552</td>\n",
       "      <td>0.811927</td>\n",
       "      <td>0.811418</td>\n",
       "      <td>0.776806</td>\n",
       "    </tr>\n",
       "    <tr>\n",
       "      <th>3</th>\n",
       "      <td>0.937287</td>\n",
       "      <td>1.109373</td>\n",
       "      <td>0.801902</td>\n",
       "      <td>0.799515</td>\n",
       "      <td>0.774172</td>\n",
       "    </tr>\n",
       "    <tr>\n",
       "      <th>4</th>\n",
       "      <td>0.927243</td>\n",
       "      <td>1.093454</td>\n",
       "      <td>0.795759</td>\n",
       "      <td>0.766700</td>\n",
       "      <td>0.757785</td>\n",
       "    </tr>\n",
       "    <tr>\n",
       "      <th>...</th>\n",
       "      <td>...</td>\n",
       "      <td>...</td>\n",
       "      <td>...</td>\n",
       "      <td>...</td>\n",
       "      <td>...</td>\n",
       "    </tr>\n",
       "    <tr>\n",
       "      <th>1219</th>\n",
       "      <td>0.472531</td>\n",
       "      <td>0.059245</td>\n",
       "      <td>-0.027318</td>\n",
       "      <td>-0.089175</td>\n",
       "      <td>-0.002803</td>\n",
       "    </tr>\n",
       "    <tr>\n",
       "      <th>1220</th>\n",
       "      <td>0.469999</td>\n",
       "      <td>0.063807</td>\n",
       "      <td>-0.031055</td>\n",
       "      <td>-0.074595</td>\n",
       "      <td>0.023715</td>\n",
       "    </tr>\n",
       "    <tr>\n",
       "      <th>1221</th>\n",
       "      <td>0.471354</td>\n",
       "      <td>0.061676</td>\n",
       "      <td>-0.045851</td>\n",
       "      <td>-0.075257</td>\n",
       "      <td>0.022795</td>\n",
       "    </tr>\n",
       "    <tr>\n",
       "      <th>1222</th>\n",
       "      <td>0.452871</td>\n",
       "      <td>0.038118</td>\n",
       "      <td>-0.076744</td>\n",
       "      <td>-0.092058</td>\n",
       "      <td>-0.037814</td>\n",
       "    </tr>\n",
       "    <tr>\n",
       "      <th>1223</th>\n",
       "      <td>0.442089</td>\n",
       "      <td>0.016290</td>\n",
       "      <td>-0.089991</td>\n",
       "      <td>-0.116563</td>\n",
       "      <td>-0.087303</td>\n",
       "    </tr>\n",
       "  </tbody>\n",
       "</table>\n",
       "<p>1224 rows × 5 columns</p>\n",
       "</div>"
      ],
      "text/plain": [
       "      \\ne_tci01  \\ne_tci02  \\ne_tci03  \\ne_tci04  \\ne_tci05\n",
       "0      0.957232   1.135519   0.802350   0.785973   0.644769\n",
       "1      0.955408   1.141289   0.814945   0.813321   0.729474\n",
       "2      0.944727   1.132552   0.811927   0.811418   0.776806\n",
       "3      0.937287   1.109373   0.801902   0.799515   0.774172\n",
       "4      0.927243   1.093454   0.795759   0.766700   0.757785\n",
       "...         ...        ...        ...        ...        ...\n",
       "1219   0.472531   0.059245  -0.027318  -0.089175  -0.002803\n",
       "1220   0.469999   0.063807  -0.031055  -0.074595   0.023715\n",
       "1221   0.471354   0.061676  -0.045851  -0.075257   0.022795\n",
       "1222   0.452871   0.038118  -0.076744  -0.092058  -0.037814\n",
       "1223   0.442089   0.016290  -0.089991  -0.116563  -0.087303\n",
       "\n",
       "[1224 rows x 5 columns]"
      ]
     },
     "execution_count": 28,
     "metadata": {},
     "output_type": "execute_result"
    }
   ],
   "source": [
    "data_orig[data_orig.shot == 30312][['\\\\ne_tci01', '\\\\ne_tci02', '\\\\ne_tci03', '\\\\ne_tci04', '\\\\ne_tci05']]"
   ]
  },
  {
   "cell_type": "code",
   "execution_count": 30,
   "metadata": {},
   "outputs": [
    {
     "data": {
      "text/html": [
       "<div>\n",
       "<style scoped>\n",
       "    .dataframe tbody tr th:only-of-type {\n",
       "        vertical-align: middle;\n",
       "    }\n",
       "\n",
       "    .dataframe tbody tr th {\n",
       "        vertical-align: top;\n",
       "    }\n",
       "\n",
       "    .dataframe thead th {\n",
       "        text-align: right;\n",
       "    }\n",
       "</style>\n",
       "<table border=\"1\" class=\"dataframe\">\n",
       "  <thead>\n",
       "    <tr style=\"text-align: right;\">\n",
       "      <th></th>\n",
       "      <th>\\ne_tci01</th>\n",
       "      <th>\\ne_tci02</th>\n",
       "      <th>\\ne_tci03</th>\n",
       "      <th>\\ne_tci04</th>\n",
       "      <th>\\ne_tci05</th>\n",
       "    </tr>\n",
       "  </thead>\n",
       "  <tbody>\n",
       "    <tr>\n",
       "      <th>count</th>\n",
       "      <td>849.000000</td>\n",
       "      <td>849.000000</td>\n",
       "      <td>849.000000</td>\n",
       "      <td>849.000000</td>\n",
       "      <td>849.000000</td>\n",
       "    </tr>\n",
       "    <tr>\n",
       "      <th>mean</th>\n",
       "      <td>1.901816</td>\n",
       "      <td>2.437126</td>\n",
       "      <td>2.229233</td>\n",
       "      <td>1.882751</td>\n",
       "      <td>1.558470</td>\n",
       "    </tr>\n",
       "    <tr>\n",
       "      <th>std</th>\n",
       "      <td>0.842779</td>\n",
       "      <td>1.107918</td>\n",
       "      <td>1.019163</td>\n",
       "      <td>0.854685</td>\n",
       "      <td>0.665965</td>\n",
       "    </tr>\n",
       "    <tr>\n",
       "      <th>min</th>\n",
       "      <td>-0.058973</td>\n",
       "      <td>-0.060243</td>\n",
       "      <td>0.000457</td>\n",
       "      <td>-0.025305</td>\n",
       "      <td>0.009594</td>\n",
       "    </tr>\n",
       "    <tr>\n",
       "      <th>25%</th>\n",
       "      <td>1.419414</td>\n",
       "      <td>1.891177</td>\n",
       "      <td>1.678615</td>\n",
       "      <td>1.387139</td>\n",
       "      <td>1.203794</td>\n",
       "    </tr>\n",
       "    <tr>\n",
       "      <th>50%</th>\n",
       "      <td>2.311448</td>\n",
       "      <td>2.926916</td>\n",
       "      <td>2.693320</td>\n",
       "      <td>2.306231</td>\n",
       "      <td>1.883663</td>\n",
       "    </tr>\n",
       "    <tr>\n",
       "      <th>75%</th>\n",
       "      <td>2.409350</td>\n",
       "      <td>3.131492</td>\n",
       "      <td>2.858167</td>\n",
       "      <td>2.451156</td>\n",
       "      <td>2.038241</td>\n",
       "    </tr>\n",
       "    <tr>\n",
       "      <th>max</th>\n",
       "      <td>2.889126</td>\n",
       "      <td>3.818544</td>\n",
       "      <td>3.592780</td>\n",
       "      <td>2.970200</td>\n",
       "      <td>2.373285</td>\n",
       "    </tr>\n",
       "  </tbody>\n",
       "</table>\n",
       "</div>"
      ],
      "text/plain": [
       "        \\ne_tci01   \\ne_tci02   \\ne_tci03   \\ne_tci04   \\ne_tci05\n",
       "count  849.000000  849.000000  849.000000  849.000000  849.000000\n",
       "mean     1.901816    2.437126    2.229233    1.882751    1.558470\n",
       "std      0.842779    1.107918    1.019163    0.854685    0.665965\n",
       "min     -0.058973   -0.060243    0.000457   -0.025305    0.009594\n",
       "25%      1.419414    1.891177    1.678615    1.387139    1.203794\n",
       "50%      2.311448    2.926916    2.693320    2.306231    1.883663\n",
       "75%      2.409350    3.131492    2.858167    2.451156    2.038241\n",
       "max      2.889126    3.818544    3.592780    2.970200    2.373285"
      ]
     },
     "execution_count": 30,
     "metadata": {},
     "output_type": "execute_result"
    }
   ],
   "source": [
    "data_orig[data_orig.shot == 31888][['\\\\ne_tci01', '\\\\ne_tci02', '\\\\ne_tci03', '\\\\ne_tci04', '\\\\ne_tci05']].describe()"
   ]
  },
  {
   "cell_type": "code",
   "execution_count": 31,
   "metadata": {},
   "outputs": [
    {
     "data": {
      "text/html": [
       "<div>\n",
       "<style scoped>\n",
       "    .dataframe tbody tr th:only-of-type {\n",
       "        vertical-align: middle;\n",
       "    }\n",
       "\n",
       "    .dataframe tbody tr th {\n",
       "        vertical-align: top;\n",
       "    }\n",
       "\n",
       "    .dataframe thead th {\n",
       "        text-align: right;\n",
       "    }\n",
       "</style>\n",
       "<table border=\"1\" class=\"dataframe\">\n",
       "  <thead>\n",
       "    <tr style=\"text-align: right;\">\n",
       "      <th></th>\n",
       "      <th>\\ne_tci01</th>\n",
       "      <th>\\ne_tci02</th>\n",
       "      <th>\\ne_tci03</th>\n",
       "      <th>\\ne_tci04</th>\n",
       "      <th>\\ne_tci05</th>\n",
       "    </tr>\n",
       "  </thead>\n",
       "  <tbody>\n",
       "    <tr>\n",
       "      <th>count</th>\n",
       "      <td>870.000000</td>\n",
       "      <td>870.000000</td>\n",
       "      <td>870.000000</td>\n",
       "      <td>870.000000</td>\n",
       "      <td>870.000000</td>\n",
       "    </tr>\n",
       "    <tr>\n",
       "      <th>mean</th>\n",
       "      <td>2.020077</td>\n",
       "      <td>7.537583</td>\n",
       "      <td>68.648659</td>\n",
       "      <td>-56.728420</td>\n",
       "      <td>0.894431</td>\n",
       "    </tr>\n",
       "    <tr>\n",
       "      <th>std</th>\n",
       "      <td>0.900497</td>\n",
       "      <td>8.325562</td>\n",
       "      <td>180.327133</td>\n",
       "      <td>72.039742</td>\n",
       "      <td>0.688082</td>\n",
       "    </tr>\n",
       "    <tr>\n",
       "      <th>min</th>\n",
       "      <td>-0.047987</td>\n",
       "      <td>-4.714220</td>\n",
       "      <td>-3.401608</td>\n",
       "      <td>-160.985138</td>\n",
       "      <td>-0.659577</td>\n",
       "    </tr>\n",
       "    <tr>\n",
       "      <th>25%</th>\n",
       "      <td>1.481866</td>\n",
       "      <td>2.884227</td>\n",
       "      <td>2.342563</td>\n",
       "      <td>-135.248943</td>\n",
       "      <td>0.423109</td>\n",
       "    </tr>\n",
       "    <tr>\n",
       "      <th>50%</th>\n",
       "      <td>2.302213</td>\n",
       "      <td>3.291040</td>\n",
       "      <td>2.699826</td>\n",
       "      <td>1.773291</td>\n",
       "      <td>0.883236</td>\n",
       "    </tr>\n",
       "    <tr>\n",
       "      <th>75%</th>\n",
       "      <td>2.656297</td>\n",
       "      <td>12.325199</td>\n",
       "      <td>3.249156</td>\n",
       "      <td>2.361128</td>\n",
       "      <td>1.196681</td>\n",
       "    </tr>\n",
       "    <tr>\n",
       "      <th>max</th>\n",
       "      <td>3.156676</td>\n",
       "      <td>24.324060</td>\n",
       "      <td>573.109131</td>\n",
       "      <td>3.182985</td>\n",
       "      <td>2.641999</td>\n",
       "    </tr>\n",
       "  </tbody>\n",
       "</table>\n",
       "</div>"
      ],
      "text/plain": [
       "        \\ne_tci01   \\ne_tci02   \\ne_tci03   \\ne_tci04   \\ne_tci05\n",
       "count  870.000000  870.000000  870.000000  870.000000  870.000000\n",
       "mean     2.020077    7.537583   68.648659  -56.728420    0.894431\n",
       "std      0.900497    8.325562  180.327133   72.039742    0.688082\n",
       "min     -0.047987   -4.714220   -3.401608 -160.985138   -0.659577\n",
       "25%      1.481866    2.884227    2.342563 -135.248943    0.423109\n",
       "50%      2.302213    3.291040    2.699826    1.773291    0.883236\n",
       "75%      2.656297   12.325199    3.249156    2.361128    1.196681\n",
       "max      3.156676   24.324060  573.109131    3.182985    2.641999"
      ]
     },
     "execution_count": 31,
     "metadata": {},
     "output_type": "execute_result"
    }
   ],
   "source": [
    "data_orig[data_orig.shot == 28158][['\\\\ne_tci01', '\\\\ne_tci02', '\\\\ne_tci03', '\\\\ne_tci04', '\\\\ne_tci05']].describe()"
   ]
  },
  {
   "cell_type": "code",
   "execution_count": 35,
   "metadata": {},
   "outputs": [
    {
     "data": {
      "text/plain": [
       "(0.0, 10.0)"
      ]
     },
     "execution_count": 35,
     "metadata": {},
     "output_type": "execute_result"
    },
    {
     "data": {
      "image/png": "[encoded data removed]",
      "text/plain": [
       "<Figure size 432x288 with 1 Axes>"
      ]
     },
     "metadata": {
      "needs_background": "light"
     },
     "output_type": "display_data"
    }
   ],
   "source": [
    "data_orig[data_orig.shot == 28158][['\\\\ne_tci01', '\\\\ne_tci02', '\\\\ne_tci03', '\\\\ne_tci04', '\\\\ne_tci05']].plot()\n",
    "plt.ylim(0,10)"
   ]
  },
  {
   "cell_type": "code",
   "execution_count": 37,
   "metadata": {},
   "outputs": [
    {
     "data": {
      "text/html": [
       "<div>\n",
       "<style scoped>\n",
       "    .dataframe tbody tr th:only-of-type {\n",
       "        vertical-align: middle;\n",
       "    }\n",
       "\n",
       "    .dataframe tbody tr th {\n",
       "        vertical-align: top;\n",
       "    }\n",
       "\n",
       "    .dataframe thead th {\n",
       "        text-align: right;\n",
       "    }\n",
       "</style>\n",
       "<table border=\"1\" class=\"dataframe\">\n",
       "  <thead>\n",
       "    <tr style=\"text-align: right;\">\n",
       "      <th></th>\n",
       "      <th>\\ECSEC1TZRTN</th>\n",
       "      <th>\\ECSEC2TZRTN</th>\n",
       "      <th>\\ECSEC3TZRTN</th>\n",
       "      <th>\\ECSEC4TZRTN</th>\n",
       "      <th>\\ECSES5TZRTN</th>\n",
       "    </tr>\n",
       "  </thead>\n",
       "  <tbody>\n",
       "    <tr>\n",
       "      <th>count</th>\n",
       "      <td>1.890288e+06</td>\n",
       "      <td>3.320079e+06</td>\n",
       "      <td>3.320079e+06</td>\n",
       "      <td>3.320079e+06</td>\n",
       "      <td>0.0</td>\n",
       "    </tr>\n",
       "    <tr>\n",
       "      <th>mean</th>\n",
       "      <td>-3.571925e+01</td>\n",
       "      <td>1.393937e-01</td>\n",
       "      <td>-2.440958e+01</td>\n",
       "      <td>-8.646217e+00</td>\n",
       "      <td>NaN</td>\n",
       "    </tr>\n",
       "    <tr>\n",
       "      <th>std</th>\n",
       "      <td>7.158357e-01</td>\n",
       "      <td>3.960165e+01</td>\n",
       "      <td>2.835985e+01</td>\n",
       "      <td>1.904878e+01</td>\n",
       "      <td>NaN</td>\n",
       "    </tr>\n",
       "    <tr>\n",
       "      <th>min</th>\n",
       "      <td>-3.500000e+01</td>\n",
       "      <td>-1.806549e+03</td>\n",
       "      <td>-1.000852e+04</td>\n",
       "      <td>-9.150002e+01</td>\n",
       "      <td>NaN</td>\n",
       "    </tr>\n",
       "    <tr>\n",
       "      <th>25%</th>\n",
       "      <td>-3.500000e+01</td>\n",
       "      <td>-8.444958e+00</td>\n",
       "      <td>-3.500000e+01</td>\n",
       "      <td>-2.708170e+01</td>\n",
       "      <td>NaN</td>\n",
       "    </tr>\n",
       "    <tr>\n",
       "      <th>50%</th>\n",
       "      <td>-3.500000e+01</td>\n",
       "      <td>3.924027e+00</td>\n",
       "      <td>-3.500000e+01</td>\n",
       "      <td>-3.106383e-02</td>\n",
       "      <td>NaN</td>\n",
       "    </tr>\n",
       "    <tr>\n",
       "      <th>75%</th>\n",
       "      <td>-3.500000e+01</td>\n",
       "      <td>7.626630e+00</td>\n",
       "      <td>-2.197479e-01</td>\n",
       "      <td>4.091967e-01</td>\n",
       "      <td>NaN</td>\n",
       "    </tr>\n",
       "    <tr>\n",
       "      <th>max</th>\n",
       "      <td>-3.500000e+01</td>\n",
       "      <td>2.538645e+02</td>\n",
       "      <td>1.675296e+02</td>\n",
       "      <td>8.472957e+01</td>\n",
       "      <td>NaN</td>\n",
       "    </tr>\n",
       "  </tbody>\n",
       "</table>\n",
       "</div>"
      ],
      "text/plain": [
       "       \\ECSEC1TZRTN  \\ECSEC2TZRTN  \\ECSEC3TZRTN  \\ECSEC4TZRTN  \\ECSES5TZRTN\n",
       "count  1.890288e+06  3.320079e+06  3.320079e+06  3.320079e+06           0.0\n",
       "mean  -3.571925e+01  1.393937e-01 -2.440958e+01 -8.646217e+00           NaN\n",
       "std    7.158357e-01  3.960165e+01  2.835985e+01  1.904878e+01           NaN\n",
       "min   -3.500000e+01 -1.806549e+03 -1.000852e+04 -9.150002e+01           NaN\n",
       "25%   -3.500000e+01 -8.444958e+00 -3.500000e+01 -2.708170e+01           NaN\n",
       "50%   -3.500000e+01  3.924027e+00 -3.500000e+01 -3.106383e-02           NaN\n",
       "75%   -3.500000e+01  7.626630e+00 -2.197479e-01  4.091967e-01           NaN\n",
       "max   -3.500000e+01  2.538645e+02  1.675296e+02  8.472957e+01           NaN"
      ]
     },
     "execution_count": 37,
     "metadata": {},
     "output_type": "execute_result"
    }
   ],
   "source": [
    "data_orig[['\\ECSEC1TZRTN', '\\ECSEC2TZRTN','\\ECSEC3TZRTN', '\\ECSEC4TZRTN', '\\ECSES5TZRTN']].describe()"
   ]
  },
  {
   "cell_type": "code",
   "execution_count": 7,
   "metadata": {},
   "outputs": [],
   "source": [
    "data = pd.read_pickle(\"./dataset/KSTAR_tokamak_rl_control_data.pkl\")"
   ]
  },
  {
   "cell_type": "code",
   "execution_count": 12,
   "metadata": {},
   "outputs": [
    {
     "data": {
      "text/plain": [
       "array([22385, 22398, 22420, ..., 31993, 31995, 31996])"
      ]
     },
     "execution_count": 12,
     "metadata": {},
     "output_type": "execute_result"
    }
   ],
   "source": [
    "data.shot.unique()"
   ]
  },
  {
   "cell_type": "code",
   "execution_count": 14,
   "metadata": {},
   "outputs": [
    {
     "data": {
      "text/plain": [
       "<AxesSubplot:>"
      ]
     },
     "execution_count": 14,
     "metadata": {},
     "output_type": "execute_result"
    },
    {
     "data": {
      "image/png": "[encoded data removed]",
      "text/plain": [
       "<Figure size 432x288 with 1 Axes>"
      ]
     },
     "metadata": {
      "needs_background": "light"
     },
     "output_type": "display_data"
    }
   ],
   "source": [
    "data[data.shot == 31993]['\\\\H89'].plot()"
   ]
  },
  {
   "cell_type": "code",
   "execution_count": 17,
   "metadata": {},
   "outputs": [
    {
     "data": {
      "text/plain": [
       "<AxesSubplot:>"
      ]
     },
     "execution_count": 17,
     "metadata": {},
     "output_type": "execute_result"
    },
    {
     "data": {
      "image/png": "[encoded data removed]",
      "text/plain": [
       "<Figure size 432x288 with 1 Axes>"
      ]
     },
     "metadata": {
      "needs_background": "light"
     },
     "output_type": "display_data"
    }
   ],
   "source": [
    "data[data.shot == 31993]['\\\\RC03'].plot()"
   ]
  },
  {
   "cell_type": "code",
   "execution_count": 21,
   "metadata": {},
   "outputs": [],
   "source": [
    "def moving_avarage_smoothing(X:np.array,k:int, method = 'backward'):\n",
    "    S = np.zeros(X.shape[0])\n",
    "    \n",
    "    if method == 'backward':\n",
    "        for t in range(X.shape[0]):\n",
    "            if t < k:\n",
    "                S[t] = np.mean(X[:t+1])\n",
    "            else:\n",
    "                S[t] = np.sum(X[t-k:t])/k\n",
    "    else:\n",
    "        hw = k//2\n",
    "        for t in range(X.shape[0]):\n",
    "            if t < hw:\n",
    "                S[t] = np.mean(X[:t+1])\n",
    "            elif t  < X.shape[0] - hw:\n",
    "                S[t] = np.mean(X[t-hw:t+hw])\n",
    "            else:\n",
    "                S[t] = np.mean(X[t-hw:])\n",
    "    \n",
    "    S = np.clip(S, 0, 1)\n",
    "    \n",
    "    return S"
   ]
  },
  {
   "cell_type": "code",
   "execution_count": 30,
   "metadata": {},
   "outputs": [
    {
     "data": {
      "text/plain": [
       "[<matplotlib.lines.Line2D at 0x2b2cd7972220>]"
      ]
     },
     "execution_count": 30,
     "metadata": {},
     "output_type": "execute_result"
    },
    {
     "data": {
      "image/png": "[encoded data removed]",
      "text/plain": [
       "<Figure size 432x288 with 1 Axes>"
      ]
     },
     "metadata": {
      "needs_background": "light"
     },
     "output_type": "display_data"
    }
   ],
   "source": [
    "dvl = data[data.shot == 31993]['\\\\RC03'].shift(1).fillna(method = 'bfill').values.reshape(-1,)\n",
    "dvr = data[data.shot == 31993]['\\\\RC03'].shift(-1).fillna(method = 'ffill').values.reshape(-1,)\n",
    "\n",
    "import matplotlib.pyplot as plt\n",
    "\n",
    "plt.plot(moving_avarage_smoothing(dvr-dvl, 8, 'center'))"
   ]
  },
  {
   "cell_type": "code",
   "execution_count": 32,
   "metadata": {},
   "outputs": [
    {
     "data": {
      "text/plain": [
       "[<matplotlib.lines.Line2D at 0x2b2cd7a39c10>]"
      ]
     },
     "execution_count": 32,
     "metadata": {},
     "output_type": "execute_result"
    },
    {
     "data": {
      "image/png": "[encoded data removed]",
      "text/plain": [
       "<Figure size 432x288 with 1 Axes>"
      ]
     },
     "metadata": {
      "needs_background": "light"
     },
     "output_type": "display_data"
    }
   ],
   "source": [
    "plt.plot(dvr-dvl)"
   ]
  },
  {
   "cell_type": "code",
   "execution_count": 33,
   "metadata": {},
   "outputs": [
    {
     "data": {
      "text/plain": [
       "<AxesSubplot:>"
      ]
     },
     "execution_count": 33,
     "metadata": {},
     "output_type": "execute_result"
    },
    {
     "data": {
      "image/png": "[encoded data removed]",
      "text/plain": [
       "<Figure size 432x288 with 1 Axes>"
      ]
     },
     "metadata": {
      "needs_background": "light"
     },
     "output_type": "display_data"
    }
   ],
   "source": [
    "data[data.shot == 31993]['\\\\ipmhd'].plot()"
   ]
  },
  {
   "cell_type": "code",
   "execution_count": 15,
   "metadata": {},
   "outputs": [
    {
     "data": {
      "text/plain": [
       "<AxesSubplot:>"
      ]
     },
     "execution_count": 15,
     "metadata": {},
     "output_type": "execute_result"
    },
    {
     "data": {
      "image/png": "[encoded data removed]",
      "text/plain": [
       "<Figure size 432x288 with 1 Axes>"
      ]
     },
     "metadata": {
      "needs_background": "light"
     },
     "output_type": "display_data"
    }
   ],
   "source": [
    "data[data.shot == 31993]['\\\\TAUE'].plot()"
   ]
  },
  {
   "cell_type": "code",
   "execution_count": 16,
   "metadata": {},
   "outputs": [
    {
     "data": {
      "text/plain": [
       "<AxesSubplot:>"
      ]
     },
     "execution_count": 16,
     "metadata": {},
     "output_type": "execute_result"
    },
    {
     "data": {
      "image/png": "[encoded data removed]",
      "text/plain": [
       "<Figure size 432x288 with 1 Axes>"
      ]
     },
     "metadata": {
      "needs_background": "light"
     },
     "output_type": "display_data"
    }
   ],
   "source": [
    "data[data.shot == 31993]['\\\\TAU89'].plot()"
   ]
  }
 ],
 "metadata": {
  "kernelspec": {
   "display_name": "research-env",
   "language": "python",
   "name": "python3"
  },
  "language_info": {
   "codemirror_mode": {
    "name": "ipython",
    "version": 3
   },
   "file_extension": ".py",
   "mimetype": "text/x-python",
   "name": "python",
   "nbconvert_exporter": "python",
   "pygments_lexer": "ipython3",
   "version": "3.9.12"
  }
 },
 "nbformat": 4,
 "nbformat_minor": 2
}
